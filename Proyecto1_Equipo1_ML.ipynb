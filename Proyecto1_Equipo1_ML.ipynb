{
 "cells": [
  {
   "cell_type": "code",
   "execution_count": 29,
   "id": "ebf38339",
   "metadata": {
    "scrolled": true
   },
   "outputs": [],
   "source": [
    "import pandas as pd\n",
    "import numpy as np\n",
    "import matplotlib.pyplot as plt\n",
    "import networkx as nx"
   ]
  },
  {
   "cell_type": "code",
   "execution_count": 30,
   "id": "1645dda6",
   "metadata": {},
   "outputs": [
    {
     "name": "stdout",
     "output_type": "stream",
     "text": [
      "Requirement already satisfied: scikit-learn in ./opt/anaconda3/lib/python3.9/site-packages (1.3.1)\n",
      "Requirement already satisfied: scipy>=1.5.0 in ./opt/anaconda3/lib/python3.9/site-packages (from scikit-learn) (1.7.3)\n",
      "Requirement already satisfied: threadpoolctl>=2.0.0 in ./opt/anaconda3/lib/python3.9/site-packages (from scikit-learn) (2.2.0)\n",
      "Requirement already satisfied: numpy<2.0,>=1.17.3 in ./opt/anaconda3/lib/python3.9/site-packages (from scikit-learn) (1.22.4)\n",
      "Requirement already satisfied: joblib>=1.1.1 in ./opt/anaconda3/lib/python3.9/site-packages (from scikit-learn) (1.1.1)\n"
     ]
    }
   ],
   "source": [
    "!pip install --upgrade scikit-learn \n",
    "from sklearn.model_selection import train_test_split\n",
    "from sklearn.linear_model import LinearRegression\n",
    "from sklearn.metrics import mean_squared_error\n",
    "from sklearn.preprocessing import LabelEncoder\n",
    "from sklearn.linear_model import Ridge\n",
    "from sklearn.model_selection import GridSearchCV\n",
    "import warnings\n",
    "warnings.filterwarnings('ignore')"
   ]
  },
  {
   "cell_type": "code",
   "execution_count": 31,
   "id": "f277846f",
   "metadata": {},
   "outputs": [
    {
     "name": "stdout",
     "output_type": "stream",
     "text": [
      "Mejor hiperparámetro alpha: {'alpha': 20}\n",
      "Mejor score (MSE): 0.7489604530787247\n",
      "{'Terminal CAPU': {'Boulevard Norte': 4.822290818695211}, 'Boulevard Norte': {'Hidalgo': 4.801287947170146}, 'Hidalgo': {'Unión': 4.927505091649131}, 'Unión': {'China Poblana': 4.841089303629678}, 'China Poblana': {'Santa María': 4.8903942505042695, 'Los Lavaderos': 4.916742736946101}, 'Santa María': {'San Antonio': 4.932699245272956}, 'San Antonio': {'Xanenetla': 4.962112294484838}, 'Xanenetla': {'San Francisco': 4.949966349346412}, 'San Francisco': {'Analco': 4.802771167439853}, 'Analco': {'Clinica 2': 4.767061771308848}, 'Clinica 2': {'Niños Heroes': 4.85463669378196}, 'Niños Heroes': {'Fiscalia': 4.838779815289416}, 'Fiscalia': {'Parque Juárez': 4.87278700708433}, 'Parque Juárez': {'16 de Septiembre': 4.779718679268836}, '16 de Septiembre': {'Capitan Carlos Camacho Espiritu': 4.752120209106089}, 'Capitan Carlos Camacho Espiritu': {'Cristal': 4.780796038466644}, 'Cristal': {'Bomberos': 4.762791714541862}, 'Bomberos': {'San Baltazar': 4.872803060614765}, 'San Baltazar': {'Margaritas': 4.891642433177157}, 'Margaritas': {'CU BUAP': 4.798768255330556}, 'CU BUAP': {'Biblioteca Central': 4.752914370115774}, 'Biblioteca Central': {'Las Torres': 4.823708317239502}, 'Las Torres': {'Xilotzingo': 4.942843734356733}, 'Xilotzingo': {'Arboledas': 4.8197141856972605}, 'Arboledas': {'La Fragua': 4.816156514684111}, 'La Fragua': {'La Fragua': 4.851484883840708}, 'Emiliano Zapata': {'Carmen Serdán': 4.857033429293423}, 'Carmen Serdán': {'Casa de Ángeles': 4.846596961454469}, 'Casa de Ángeles': {'Hospital del Niño Poblano': 4.884120936634608}, 'Hospital del Niño Poblano': {'Estrellas del Sur': 4.893026023612552}, 'Estrellas del Sur': {'Las Ánimas I y II': 4.9233222820533475}, 'Las Ánimas I y II': {'25 Poniente': 4.850510825344537}, '25 Poniente': {'Matamoros': 4.9064683120151695}, 'Matamoros': {'Defensores de la República': 4.8973530215378975}, 'Defensores de la República': {'18 Poniente': 4.82369046266104}, '18 Poniente': {'Pestalozzi': 4.925914968581733}, 'Pestalozzi': {'Santa Anita': 5.005419852714511}, 'Santa Anita': {'Constitución de 1917': 4.910998240476464}, 'Constitución de 1917': {'El Rayito': 4.8731092918523515}, 'El Rayito': {'China Poblana': 4.8619356041620705}, 'Los Lavaderos': {'Puente Zaragoza': 4.976581980445932}, 'Puente Zaragoza': {'Ignacio Zaragoza': 4.9377616620016}, 'Ignacio Zaragoza': {'Los Fuertes': 4.93512808784529}, 'Los Fuertes': {'Tecnológico': 5.006554153070679}, 'Tecnológico': {'La Ciénega': 4.959606855127655}, 'La Ciénega': {'18 de Noviembre': 4.844166317834108}, '18 de Noviembre': {'La Resurrección': 4.890157411859423}, 'La Resurrección': {'Universidad Tecnológica': 5.011780413755375}, 'Universidad Tecnológica': {'Rivera Anaya': 5.013117644647492}, 'Rivera Anaya': {'Amalucan': 4.872031932654543}, 'Amalucan': {'Galaxia': 4.867737041790067}, 'Galaxia': {'El Pilar': 4.882662550462391}, 'El Pilar': {'Santa Mago': 4.972903154152683}, 'Santa Mago': {'Mixatlac': 4.977449136144412}, 'Mixatlac': {'Chachapa': 4.88562021043475}, 'Chachapa': {'Juárez Serdán': 4.8985033754245}, 'Juárez Serdán': {'Terminal Tlaxcalancingo': 5.005273863336922}, 'Terminal Tlaxcalancingo': {'Terminal Chachapa': 5.040278146677471}, 'Terminal Chachapa': {'Hermanos Serdán': 4.942088659926945}, 'Hermanos Serdán': {'San Alejandro': 4.968398059788878}, 'San Alejandro': {'Bosques': 4.885369119307496}, 'Bosques': {'La Rosa': 4.900034756285511}, 'La Rosa': {'La Rosa': 4.933596706984279}, 'Diagonal Oriente': {'Diagonal Poniente': 4.834540965059286}, 'Diagonal Poniente': {'Esperanza': 4.8412095583857635}, 'Esperanza': {'Héroes': 4.860170086228254}, 'Héroes': {'Mercado de Sabores': 4.9019480646449445}, 'Mercado de Sabores': {'Héroes de la Reforma': 4.885061987545896}, 'Héroes de la Reforma': {'Revolución': 4.927901271629961}, 'Revolución': {'Espinosa Yglesias': 4.881116016594959}, 'Espinosa Yglesias': {'Panteones': 4.907336368237663}, 'Panteones': {'Juan Pablo II': 4.898075088382802}, 'Juan Pablo II': {'Río Atoyac': 4.935291031277328}, 'Río Atoyac': {'IMSS': 4.900238587345474}, 'IMSS': {'Tecamachalco': 4.95578293998083}, 'Tecamachalco': {'Tarascos': 4.991832475458318}, 'Tarascos': {'Yucatán': 5.012162341253796}, 'Yucatán': {'Periférico': 4.968763933756866}, 'Periférico': {'C.C. Centro Sur': 4.844799336459783}, 'C.C. Centro Sur': {'Pino Suárez': 4.900197699717549}, 'Pino Suárez': {'Azaleas': 4.836923448088343}, 'Azaleas': {'Tabachines': 4.922780112694929}, 'Tabachines': {'Terminal Margaritas': 4.997779902463904}, 'Terminal Margaritas': {'Independencia': 4.918226857739821}, 'Independencia': {'Olivos': 4.915123208389874}, 'Olivos': {'San Bartolo': 4.958902642861212}, 'San Bartolo': {'Torrecillas': 4.996337569822122}, 'Torrecillas': {'Club de Golf': 4.8814240488805725}, 'Club de Golf': {'Cúmulo de Virgo': 4.826267996183004}, 'Cúmulo de Virgo': {'Alpha': 4.7903483965526705}, 'Alpha': {'Santiago': 4.917318814413416}, 'Santiago': {'Paseo Bravo': 4.954470543186202}, 'Paseo Bravo': {'Museo del Ferrocarril': 4.92876842732844}, 'Museo del Ferrocarril': {'Limones': 4.909969942393973}, 'Limones': {'Zaragoza': 4.986711316523287}, 'Zaragoza': {'Niño Poblano': 4.958076374790657}, 'Niño Poblano': {'Niño Poblano': 4.92628084254972}}\n"
     ]
    }
   ],
   "source": [
    "# Cargar datos desde CSV\n",
    "filename = \"ruta9oct1-2.csv\"\n",
    "df = pd.read_csv(filename)\n",
    "\n",
    "# Codificar etiquetas para características categóricas\n",
    "label_encoders = {\n",
    "    \"Line\": LabelEncoder().fit(df['Line']),\n",
    "    \"From\": LabelEncoder().fit(df['From']),\n",
    "    \"To\": LabelEncoder().fit(df['To'])\n",
    "}\n",
    "\n",
    "for column in ['Line', 'From', 'To']:\n",
    "    df[column] = label_encoders[column].transform(df[column])\n",
    "\n",
    "## Dividir datos en entrenamiento y prueba\n",
    "X = df[['Line', 'From', 'To']]\n",
    "y = df['TP']\n",
    "X_train, X_test, y_train, y_test = train_test_split(X, y, test_size=0.2, random_state=42)\n",
    "\n",
    "# Definir el modelo y ajustar hiperparámetros\n",
    "model = Ridge()\n",
    "params = {\n",
    "    'alpha': [1e-15, 1e-10, 1e-8, 1e-4, 1e-3, 1e-2, 1, 5, 10, 20]\n",
    "}\n",
    "\n",
    "# Usar GridSearchCV para buscar el mejor hiperparámetro\n",
    "grid_search = GridSearchCV(model, params, scoring='neg_mean_squared_error', cv=5)\n",
    "grid_search.fit(X_train, y_train)\n",
    "\n",
    "# Imprimir el mejor hiperparámetro y el modelo correspondiente\n",
    "print(\"Mejor hiperparámetro alpha:\", grid_search.best_params_)\n",
    "print(\"Mejor score (MSE):\", -grid_search.best_score_)\n",
    "best_model = grid_search.best_estimator_\n",
    "\n",
    "# Crear y entrenar el modelo de regresión lineal\n",
    "model = LinearRegression()\n",
    "model.fit(X_train, y_train)\n",
    "\n",
    "graph = {}\n",
    "for index, row in df.iterrows():\n",
    "    from_station = label_encoders['From'].inverse_transform([int(row['From'])])[0]  # Corrección aquí\n",
    "    to_station = label_encoders['To'].inverse_transform([int(row['To'])])[0]  # Y aquí\n",
    "    \n",
    "    predicted_time = model.predict([[row['Line'], row['From'], row['To']]])[0]\n",
    "    \n",
    "    if from_station not in graph:\n",
    "        graph[from_station] = {}\n",
    "    graph[from_station][to_station] = predicted_time\n",
    "    \n",
    "    \n",
    "def dijkstra(graph, start, end):\n",
    "    shortest_path = {}\n",
    "    predecessor = {}\n",
    "    unseen_nodes = graph.copy()  # Copiamos el grafo para no modificar el original\n",
    "    infinity = float('inf')\n",
    "    path = []\n",
    "    for node in unseen_nodes:\n",
    "        shortest_path[node] = infinity\n",
    "    shortest_path[start] = 0\n",
    "\n",
    "    while unseen_nodes:\n",
    "        min_node = None\n",
    "        for node in unseen_nodes:\n",
    "            if min_node is None:\n",
    "                min_node = node\n",
    "            elif shortest_path[node] < shortest_path[min_node]:\n",
    "                min_node = node\n",
    "\n",
    "        path_options = graph[min_node].items()\n",
    "        for child_node, weight in path_options:\n",
    "            # Verificamos si child_node ya ha sido inicializado en shortest_path\n",
    "            if child_node in shortest_path:\n",
    "                if weight + shortest_path[min_node] < shortest_path[child_node]:\n",
    "                    shortest_path[child_node] = weight + shortest_path[min_node]\n",
    "                    predecessor[child_node] = min_node\n",
    "        unseen_nodes.pop(min_node)\n",
    "\n",
    "    current_node = end\n",
    "    while current_node != start:\n",
    "        try:\n",
    "            path.insert(0, current_node)\n",
    "            current_node = predecessor[current_node]\n",
    "        except KeyError:\n",
    "            print(\"Path not reachable\")\n",
    "            break\n",
    "    path.insert(0, start)\n",
    "    if shortest_path[end] != infinity:\n",
    "        return path, shortest_path[end]\n",
    "    else:\n",
    "        return None, None \n",
    "\n",
    "print(graph)\n",
    "    \n"
   ]
  },
  {
   "cell_type": "code",
   "execution_count": 32,
   "id": "32319d96",
   "metadata": {},
   "outputs": [
    {
     "name": "stdout",
     "output_type": "stream",
     "text": [
      "Mean Squared Error (MSE): 0.13289584263812354\n",
      "Ruta más corta (basado en predicciones): China Poblana -> Los Lavaderos -> Puente Zaragoza -> Ignacio Zaragoza -> Los Fuertes -> Tecnológico -> La Ciénega -> 18 de Noviembre -> La Resurrección -> Universidad Tecnológica -> Rivera Anaya -> Amalucan -> Galaxia -> El Pilar -> Santa Mago -> Mixatlac -> Chachapa\n",
      "Tiempo total predicho: 78.95 minutos\n",
      "\n",
      "Ruta más corta (basado en predicciones): China Poblana -> Santa María -> San Antonio -> Xanenetla -> San Francisco -> Analco -> Clinica 2 -> Niños Heroes -> Fiscalia -> Parque Juárez -> 16 de Septiembre -> Capitan Carlos Camacho Espiritu -> Cristal -> Bomberos -> San Baltazar -> Margaritas -> CU BUAP -> Biblioteca Central -> Las Torres -> Xilotzingo -> Arboledas -> La Fragua\n",
      "Tiempo total predicho: 101.67 minutos\n"
     ]
    }
   ],
   "source": [
    "# Realizar predicciones para calcular MSE\n",
    "y_pred = model.predict(X_test)\n",
    "mse = mean_squared_error(y_test, y_pred)\n",
    "print(f\"Mean Squared Error (MSE): {mse}\")\n",
    "\n",
    "# Calcular el camino más corto\n",
    "path, distance = dijkstra(graph, 'China Poblana', 'Chachapa')\n",
    "print(f\"Ruta más corta (basado en predicciones): {' -> '.join(path)}\")\n",
    "print(f\"Tiempo total predicho: {distance:.2f} minutos\\n\")\n",
    "\n",
    "# Calcular el camino más corto\n",
    "path, distance = dijkstra(graph, 'China Poblana', 'La Fragua')\n",
    "print(f\"Ruta más corta (basado en predicciones): {' -> '.join(path)}\")\n",
    "print(f\"Tiempo total predicho: {distance:.2f} minutos\")"
   ]
  },
  {
   "cell_type": "code",
   "execution_count": 33,
   "id": "12beb206",
   "metadata": {
    "scrolled": true
   },
   "outputs": [
    {
     "name": "stdout",
     "output_type": "stream",
     "text": [
      "Mejor hiperparámetro alpha: {'alpha': 20}\n",
      "Mejor score (MSE): 5.517998894240286\n",
      "{'Chachapa': {'Flor del Bosque': 7.085800894854588}, 'Flor del Bosque': {'Francisco Javier Clavijero': 6.331404921700225}, 'Francisco Javier Clavijero': {'Emiliano Zapata': 6.502664429530202}, 'Emiliano Zapata': {'Valsequillo': 5.25430648769575}, 'Valsequillo': {'San Francisco Totuimehuacan': 3.8969574944071583}, 'San Francisco Totuimehuacan': {'Los Héroes': 4.822612975391499}, 'Los Héroes': {'Hospital General': 5.577008948545862}, 'Hospital General': {'Periférico': 5.405749440715884}, 'Periférico': {'Prolongación 19 sur': 4.8424295302013425}, 'Prolongación 19 sur': {'Ciudad  Judicial': 5.919527964205817}, 'Ciudad  Judicial': {'Tlaxcalcingo': 5.626550335570471}, 'Tlaxcalcingo': {'Tlaxcalcingo': 3.9068657718120803}}\n"
     ]
    }
   ],
   "source": [
    "# Cargar datos desde CSV\n",
    "filename = \"ruta9oct1.4-2.csv\"\n",
    "df4 = pd.read_csv(filename)\n",
    "\n",
    "# Codificar etiquetas para características categóricas\n",
    "label_encoders = {\n",
    "    \"Line\": LabelEncoder().fit(df4['Line']),\n",
    "    \"From\": LabelEncoder().fit(df4['From']),\n",
    "    \"To\": LabelEncoder().fit(df4['To'])\n",
    "}\n",
    "\n",
    "for column in ['Line', 'From', 'To']:\n",
    "    df4[column] = label_encoders[column].transform(df4[column])\n",
    "\n",
    "# Dividir datos en entrenamiento y prueba\n",
    "X = df4[['Line', 'From', 'To']]\n",
    "y = df4['TP']\n",
    "X_train, X_test, y_train, y_test = train_test_split(X, y, test_size=0.2, random_state=42)\n",
    "\n",
    "# Definir el modelo y ajustar hiperparámetros\n",
    "model = Ridge()\n",
    "params = {\n",
    "    'alpha': [1e-15, 1e-10, 1e-8, 1e-4, 1e-3, 1e-2, 1, 5, 10, 20]\n",
    "}\n",
    "\n",
    "# Usar GridSearchCV para buscar el mejor hiperparámetro\n",
    "grid_search = GridSearchCV(model, params, scoring='neg_mean_squared_error', cv=5)\n",
    "grid_search.fit(X_train, y_train)\n",
    "\n",
    "# Imprimir el mejor hiperparámetro y el modelo correspondiente\n",
    "print(\"Mejor hiperparámetro alpha:\", grid_search.best_params_)\n",
    "print(\"Mejor score (MSE):\", -grid_search.best_score_)\n",
    "best_model = grid_search.best_estimator_\n",
    "\n",
    "# Crear y entrenar el modelo de regresión lineal\n",
    "model = LinearRegression()\n",
    "model.fit(X_train, y_train)\n",
    "\n",
    "graph = {}\n",
    "for index, row in df4.iterrows():\n",
    "    from_station = label_encoders['From'].inverse_transform([int(row['From'])])[0]  # Corrección aquí\n",
    "    to_station = label_encoders['To'].inverse_transform([int(row['To'])])[0]  # Y aquí\n",
    "    \n",
    "    predicted_time = model.predict([[row['Line'], row['From'], row['To']]])[0]\n",
    "    \n",
    "    if from_station not in graph:\n",
    "        graph[from_station] = {}\n",
    "    graph[from_station][to_station] = predicted_time\n",
    "    \n",
    "    \n",
    "def dijkstra(graph, start, end):\n",
    "    shortest_path = {}\n",
    "    predecessor = {}\n",
    "    unseen_nodes = graph.copy()  # Copiamos el grafo para no modificar el original\n",
    "    infinity = float('inf')\n",
    "    path = []\n",
    "    for node in unseen_nodes:\n",
    "        shortest_path[node] = infinity\n",
    "    shortest_path[start] = 0\n",
    "\n",
    "    while unseen_nodes:\n",
    "        min_node = None\n",
    "        for node in unseen_nodes:\n",
    "            if min_node is None:\n",
    "                min_node = node\n",
    "            elif shortest_path[node] < shortest_path[min_node]:\n",
    "                min_node = node\n",
    "\n",
    "        path_options = graph[min_node].items()\n",
    "        for child_node, weight in path_options:\n",
    "            # Verificamos si child_node ya ha sido inicializado en shortest_path\n",
    "            if child_node in shortest_path:\n",
    "                if weight + shortest_path[min_node] < shortest_path[child_node]:\n",
    "                    shortest_path[child_node] = weight + shortest_path[min_node]\n",
    "                    predecessor[child_node] = min_node\n",
    "        unseen_nodes.pop(min_node)\n",
    "\n",
    "    current_node = end\n",
    "    while current_node != start:\n",
    "        try:\n",
    "            path.insert(0, current_node)\n",
    "            current_node = predecessor[current_node]\n",
    "        except KeyError:\n",
    "            print(\"Path not reachable\")\n",
    "            break\n",
    "    path.insert(0, start)\n",
    "    if shortest_path[end] != infinity:\n",
    "        return path, shortest_path[end]\n",
    "    else:\n",
    "        return None, None \n",
    "\n",
    "print(graph)"
   ]
  },
  {
   "cell_type": "code",
   "execution_count": 34,
   "id": "376dd607",
   "metadata": {},
   "outputs": [
    {
     "data": {
      "text/plain": [
       "180.62"
      ]
     },
     "execution_count": 34,
     "metadata": {},
     "output_type": "execute_result"
    }
   ],
   "source": [
    "#Guardar la suma total del tiempo en todas las rutas para llegar de a a b\n",
    "sumtot = 101.67+78.95\n",
    "sumtot"
   ]
  },
  {
   "cell_type": "code",
   "execution_count": 35,
   "id": "0dd41e0a",
   "metadata": {},
   "outputs": [
    {
     "name": "stdout",
     "output_type": "stream",
     "text": [
      "Mean Squared Error (MSE): 0.32483994086686224\n",
      "Ruta más corta (basado en predicciones): Chachapa -> Flor del Bosque -> Francisco Javier Clavijero -> Emiliano Zapata -> Valsequillo\n",
      "Tiempo total predicho: 25.17 minutos\n"
     ]
    }
   ],
   "source": [
    "# Realizar predicciones para calcular MSE\n",
    "y_pred = model.predict(X_test)\n",
    "mse = mean_squared_error(y_test, y_pred)\n",
    "print(f\"Mean Squared Error (MSE): {mse}\")\n",
    "\n",
    "# Calcular el camino más corto\n",
    "path, distance = dijkstra(graph, 'Chachapa', 'Valsequillo')\n",
    "print(f\"Ruta más corta (basado en predicciones): {' -> '.join(path)}\")\n",
    "print(f\"Tiempo total predicho: {distance:.2f} minutos\")"
   ]
  },
  {
   "cell_type": "code",
   "execution_count": 36,
   "id": "27f5ec02",
   "metadata": {},
   "outputs": [
    {
     "data": {
      "text/plain": [
       "155.45"
      ]
     },
     "execution_count": 36,
     "metadata": {},
     "output_type": "execute_result"
    }
   ],
   "source": [
    "# Resta de los dos tiempo \n",
    "diftot = sumtot-25.17\n",
    "diftot"
   ]
  },
  {
   "cell_type": "code",
   "execution_count": 37,
   "id": "a299891e",
   "metadata": {},
   "outputs": [
    {
     "data": {
      "image/png": "[encoded data removed]",
      "text/plain": [
       "<Figure size 800x600 with 1 Axes>"
      ]
     },
     "metadata": {},
     "output_type": "display_data"
    }
   ],
   "source": [
    "# Datos para la gráfica\n",
    "labels = ['Tiempo Total Anterior', 'Tiempo con Nueva Ruta']\n",
    "values = [sumtot, 25.17]\n",
    "\n",
    "# Configuración de la gráfica\n",
    "plt.figure(figsize=(8, 6))\n",
    "bars = plt.bar(labels, values, color=['red', 'green'])\n",
    "\n",
    "# Añadir título y etiquetas\n",
    "plt.title('Comparación de Tiempos: Antes vs. Con Nueva Ruta')\n",
    "plt.ylabel('Tiempo (minutos)')\n",
    "plt.xlabel('Escenario')\n",
    "\n",
    "# Mostrar valores en las barras\n",
    "for bar in bars:\n",
    "    yval = bar.get_height()\n",
    "    plt.text(bar.get_x() + bar.get_width()/2, yval + 3, round(yval, 2), ha='center', va='bottom')\n",
    "\n",
    "# Mostrar la gráfica\n",
    "plt.tight_layout()\n",
    "plt.show()"
   ]
  },
  {
   "cell_type": "code",
   "execution_count": 38,
   "id": "1f9958c2",
   "metadata": {},
   "outputs": [
    {
     "name": "stdout",
     "output_type": "stream",
     "text": [
      "Total de CO2 ahorrado por 100,000 de personas al día: 65289.00 kg\n"
     ]
    }
   ],
   "source": [
    "# Datos proporcionados\n",
    "tiempo_ahorrado_por_persona = diftot  # minutos\n",
    "co2_ahorrado_por_minuto = 0.0042  # kg CO2/min por persona\n",
    "num_personas = 3000000/30  # número de personas al día\n",
    "\n",
    "# Cálculo del ahorro total de CO2\n",
    "total_co2_ahorrado = tiempo_ahorrado_por_persona * co2_ahorrado_por_minuto * num_personas\n",
    "\n",
    "print(f\"Total de CO2 ahorrado por 100,000 de personas al día: {total_co2_ahorrado:.2f} kg\")\n"
   ]
  },
  {
   "cell_type": "code",
   "execution_count": 39,
   "id": "01e26d48",
   "metadata": {
    "scrolled": true
   },
   "outputs": [
    {
     "name": "stdout",
     "output_type": "stream",
     "text": [
      "Se necesitarían entre 2528.68 y 7586.04 árboles para absorber el CO2 antes de implementar la ruta 4\n",
      "Se necesitarían entre 352.38 y 1057.14 árboles para absorber el CO2 después de implementar la ruta 4\n"
     ]
    }
   ],
   "source": [
    "# Datos anteriores\n",
    "tiempo_no_ahorrado= sumtot\n",
    "tiempo_ahorrado_por_persona = 25.17  # minutos\n",
    "co2_ahorrado_por_minuto = 0.0042  # kg CO2/min por persona\n",
    "num_personas = 3000000/30  # número de personas al día\n",
    "\n",
    "# Cálculo del ahorro total de CO2\n",
    "total_co2= tiempo_no_ahorrado*co2_ahorrado_por_minuto*num_personas\n",
    "total_co2_ahorrado = tiempo_ahorrado_por_persona * co2_ahorrado_por_minuto * num_personas\n",
    "\n",
    "# Datos sobre la absorción de CO2 por árbol\n",
    "absorcion_minima = 10  # kg/año\n",
    "absorcion_maxima = 30  # kg/año\n",
    "\n",
    "# Cálculo de la cantidad de árboles necesarios\n",
    "num_arboles_min_antes = total_co2/ absorcion_maxima\n",
    "num_arboles_max_antes = total_co2/ absorcion_minima\n",
    "\n",
    "# Cálculo de la cantidad de árboles necesarios\n",
    "num_arboles_min = total_co2_ahorrado / absorcion_maxima\n",
    "num_arboles_max = total_co2_ahorrado / absorcion_minima\n",
    "\n",
    "print(f\"Se necesitarían entre {num_arboles_min_antes:.2f} y {num_arboles_max_antes:.2f} árboles para absorber el CO2 antes de implementar la ruta 4\")\n",
    "print(f\"Se necesitarían entre {num_arboles_min:.2f} y {num_arboles_max:.2f} árboles para absorber el CO2 después de implementar la ruta 4\")"
   ]
  },
  {
   "cell_type": "code",
   "execution_count": 40,
   "id": "e4246f53",
   "metadata": {},
   "outputs": [
    {
     "data": {
      "image/png": "[encoded data removed]",
      "text/plain": [
       "<Figure size 1200x700 with 1 Axes>"
      ]
     },
     "metadata": {},
     "output_type": "display_data"
    }
   ],
   "source": [
    "# Datos\n",
    "labels = ['Antes (min)', 'Antes (max)', 'Después (min)', 'Después (max)']\n",
    "values = [num_arboles_min_antes, num_arboles_max_antes, num_arboles_min, num_arboles_max]\n",
    "\n",
    "# Configuración de la gráfica\n",
    "plt.figure(figsize=(12,7))\n",
    "plt.bar(labels, values, color=['red', 'salmon', 'green', 'lightgreen'])\n",
    "\n",
    "# Añadir título y etiquetas\n",
    "plt.title('Cantidad de árboles necesarios para compensar el CO2 antes y después de implementar la ruta 4')\n",
    "plt.ylabel('Número de árboles')\n",
    "plt.xlabel('Escenario')\n",
    "\n",
    "# Mostrar la gráfica\n",
    "plt.tight_layout()\n",
    "plt.show()"
   ]
  },
  {
   "cell_type": "code",
   "execution_count": null,
   "id": "f6e3cb3e",
   "metadata": {},
   "outputs": [],
   "source": []
  },
  {
   "cell_type": "code",
   "execution_count": null,
   "id": "d2892dd3",
   "metadata": {},
   "outputs": [],
   "source": []
  },
  {
   "cell_type": "code",
   "execution_count": null,
   "id": "336fcc31",
   "metadata": {},
   "outputs": [],
   "source": []
  }
 ],
 "metadata": {
  "kernelspec": {
   "display_name": "Python 3 (ipykernel)",
   "language": "python",
   "name": "python3"
  },
  "language_info": {
   "codemirror_mode": {
    "name": "ipython",
    "version": 3
   },
   "file_extension": ".py",
   "mimetype": "text/x-python",
   "name": "python",
   "nbconvert_exporter": "python",
   "pygments_lexer": "ipython3",
   "version": "3.9.7"
  }
 },
 "nbformat": 4,
 "nbformat_minor": 5
}
